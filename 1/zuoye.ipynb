{
 "cells": [
  {
   "cell_type": "code",
   "execution_count": null,
   "id": "initial_id",
   "metadata": {
    "collapsed": true
   },
   "outputs": [],
   "source": [
    "import pandas as pd\n",
    "import matplotlib.pyplot as plt\n",
    "\n",
    "# 1. 读取快递业务量.csv文件，获取数据\n",
    "df = pd.read_csv('快递业务量.csv')\n",
    "\n",
    "# 2. 绘制反映2018年、2019年快递业务量对比的堆叠柱形图\n",
    "# 设置月份为索引\n",
    "df.set_index('月份', inplace=True)\n",
    "\n",
    "# 绘制堆叠柱形图\n",
    "ax = df.plot(kind='bar', stacked=True, color=['#F4A460', '#6490ED'], width=0.6)\n",
    "\n",
    "# 3. 配置图表属性\n",
    "ax.set_xlabel('月份')  # 设置x轴标签\n",
    "ax.set_ylabel('业务量（亿件）')  # 设置y轴标签\n",
    "ax.set_title('2018年、2019年快递业务量对比')  # 设置标题\n",
    "\n",
    "# 4. 添加图例\n",
    "ax.legend(['2018年', '2019年'], loc='upper left')\n",
    "\n",
    "# 5. 显示图表\n",
    "plt.xticks(rotation=45)  # 让x轴的月份标签倾斜45度，避免重叠\n",
    "plt.tight_layout()  # 调整布局，使得标签不会被遮挡\n",
    "plt.show()\n"
   ]
  }
 ],
 "metadata": {
  "kernelspec": {
   "display_name": "Python 3",
   "language": "python",
   "name": "python3"
  },
  "language_info": {
   "codemirror_mode": {
    "name": "ipython",
    "version": 2
   },
   "file_extension": ".py",
   "mimetype": "text/x-python",
   "name": "python",
   "nbconvert_exporter": "python",
   "pygments_lexer": "ipython2",
   "version": "2.7.6"
  }
 },
 "nbformat": 4,
 "nbformat_minor": 5
}
